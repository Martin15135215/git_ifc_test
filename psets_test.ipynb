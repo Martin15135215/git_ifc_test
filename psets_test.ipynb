{
 "cells": [
  {
   "cell_type": "code",
   "execution_count": 1,
   "id": "004c13eb-f184-4153-bbf8-aaaa5259d0b7",
   "metadata": {},
   "outputs": [],
   "source": [
    "import ifcopenshell\n",
    "import ifcopenshell.api\n",
    "import ifcopenshell.api.owner.settings\n",
    "import numpy as np"
   ]
  },
  {
   "cell_type": "code",
   "execution_count": 2,
   "id": "b4eb37fd-7a2e-4ebb-985c-3d09fc247d1a",
   "metadata": {},
   "outputs": [],
   "source": [
    "nummber = np.arange(10)"
   ]
  },
  {
   "cell_type": "code",
   "execution_count": 3,
   "id": "194b1a80-68df-4ae3-8cdb-536d4a203d72",
   "metadata": {},
   "outputs": [
    {
     "data": {
      "text/plain": [
       "array([0, 1, 2, 3, 4, 5, 6, 7, 8, 9])"
      ]
     },
     "execution_count": 3,
     "metadata": {},
     "output_type": "execute_result"
    }
   ],
   "source": [
    "nummber"
   ]
  },
  {
   "cell_type": "code",
   "execution_count": 4,
   "id": "36c420be-d26a-4fc6-8265-b1ba818c5648",
   "metadata": {},
   "outputs": [],
   "source": [
    "class ifc:\n",
    "    def __init__(self):\n",
    "        pass\n",
    "        \n",
    "    def create_ifc_file(self, version):\n",
    "        self.file = ifcopenshell.api.run(\"project.create_file\", version=version)\n",
    "        person = ifcopenshell.api.run(\"owner.add_person\", self.file)\n",
    "        person[0] = person.GivenName = None\n",
    "        person.FamilyName = \"user\"\n",
    "        org = ifcopenshell.api.run(\"owner.add_organisation\", self.file)\n",
    "        org[0] = None\n",
    "        org.Name = \"template\"\n",
    "        user = ifcopenshell.api.run(\"owner.add_person_and_organisation\", self.file, person=person, organisation=org)\n",
    "        application = ifcopenshell.api.run(\"owner.add_application\", self.file)\n",
    "        ifcopenshell.api.owner.settings.get_user = lambda ifc: user\n",
    "        ifcopenshell.api.owner.settings.get_application = lambda ifc: application\n",
    "\n",
    "        project = ifcopenshell.api.run(\"root.create_entity\", self.file, ifc_class=\"IfcProject\", name=\"My Project\")\n",
    "        lengthunit = ifcopenshell.api.run(\"unit.add_si_unit\", self.file, unit_type=\"LENGTHUNIT\", name=\"METRE\")\n",
    "        ifcopenshell.api.run(\"unit.assign_unit\", self.file, units=[lengthunit])\n",
    "        model = ifcopenshell.api.run(\"context.add_context\", self.file, context_type=\"Model\")\n",
    "        self.context = ifcopenshell.api.run(\n",
    "            \"context.add_context\",\n",
    "            self.file,\n",
    "            context_type=\"Model\",\n",
    "            context_identifier=\"Body\",\n",
    "            target_view=\"MODEL_VIEW\",\n",
    "            parent=model,\n",
    "        )\n",
    "        site = ifcopenshell.api.run(\"root.create_entity\", self.file, ifc_class=\"IfcSite\", name=\"My Site\")\n",
    "        building = ifcopenshell.api.run(\"root.create_entity\", self.file, ifc_class=\"IfcBuilding\", name=\"My Building\")\n",
    "        self.storey = ifcopenshell.api.run(\n",
    "            \"root.create_entity\", self.file, ifc_class=\"IfcBuildingStorey\", name=\"My Storey\"\n",
    "        )\n",
    "        ifcopenshell.api.run(\"aggregate.assign_object\", self.file, product=site, relating_object=project)\n",
    "        ifcopenshell.api.run(\"aggregate.assign_object\", self.file, product=building, relating_object=site)\n",
    "        ifcopenshell.api.run(\"aggregate.assign_object\", self.file, product=self.storey, relating_object=building)\n",
    "\n",
    "        self.origin = self.file.createIfcAxis2Placement3D(\n",
    "            self.file.createIfcCartesianPoint((0.0, 0.0, 0.0)),\n",
    "            self.file.createIfcDirection((0.0, 0.0, 1.0)),\n",
    "            self.file.createIfcDirection((1.0, 0.0, 0.0)),\n",
    "        )\n",
    "        self.placement = self.file.createIfcLocalPlacement(None, self.origin)\n",
    "        self.history = ifcopenshell.api.run(\"owner.create_owner_history\", self.file)"
   ]
  },
  {
   "cell_type": "code",
   "execution_count": 5,
   "id": "e30d4800-4ec2-4f60-bebb-4f55ad95b3fc",
   "metadata": {},
   "outputs": [],
   "source": [
    "ifc_file = ifc()\n",
    "ifc_file.create_ifc_file(version=\"IFC4\")"
   ]
  },
  {
   "cell_type": "code",
   "execution_count": 6,
   "id": "c5f4ffe1-15fb-4d43-8113-f18cd31e41a6",
   "metadata": {},
   "outputs": [],
   "source": [
    "file = ifc_file.file\n",
    "storey = ifc_file.storey"
   ]
  },
  {
   "cell_type": "code",
   "execution_count": 7,
   "id": "86849622-b485-464f-972f-76a6c16e43ef",
   "metadata": {},
   "outputs": [],
   "source": [
    "for i in nummber:\n",
    "    guid = ifcopenshell.guid.new()\n",
    "    name_of_object = f\"Object {i}\"\n",
    "    random_nummer = 213\n",
    "    product = file.create_entity(\n",
    "                \"IfcBuildingElementProxy\",\n",
    "                **{\n",
    "                    \"GlobalId\": guid,\n",
    "                    \"Name\": name_of_object,\n",
    "                    \"ObjectPlacement\": None ,\n",
    "                    \n",
    "                }\n",
    "            )\n",
    "    ifcopenshell.api.run(\"spatial.assign_container\", file, product=product, relating_structure=storey)\n",
    "    pse = ifcopenshell.api.run(\"pset.add_pset\", file , product=product, name=\"My Property\")\n",
    "    ifcopenshell.api.run(\"pset.edit_pset\", file , pset=pse, properties={\"Created\": f\"by script{random_nummer}\" , \"Object Name\": name_of_object })\n",
    "    "
   ]
  },
  {
   "cell_type": "code",
   "execution_count": 8,
   "id": "287176b5-0c0f-47f7-afd2-c903d8248f7c",
   "metadata": {},
   "outputs": [],
   "source": [
    "file.write(\"test_1.ifc\")"
   ]
  },
  {
   "cell_type": "code",
   "execution_count": 9,
   "id": "bfb59b0b-a941-43fe-8694-b0a1cbade861",
   "metadata": {},
   "outputs": [],
   "source": [
    "import ifcpatch"
   ]
  },
  {
   "cell_type": "code",
   "execution_count": 10,
   "id": "11076a29-7687-489f-a70a-4af01243cbb9",
   "metadata": {},
   "outputs": [
    {
     "name": "stdout",
     "output_type": "stream",
     "text": [
      "# Loading IFC file .....\n",
      "# Loading patch recipe ...\n",
      "# Patching ...\n",
      "# Writing patched file ...\n",
      "# All tasks are complete :-)\n"
     ]
    }
   ],
   "source": [
    "ifcpatch.execute({\n",
    "        \"input\": \"test_1.ifc\",\n",
    "        \"output\": \"test_2.ifc\",\n",
    "        \"recipe\": \"RecycleNonRootedElements\",\n",
    "        \"log\": [],\n",
    "        \"arguments\": [],})"
   ]
  },
  {
   "cell_type": "code",
   "execution_count": null,
   "id": "8148330a-05b9-4197-9f08-8212ce747b74",
   "metadata": {},
   "outputs": [],
   "source": []
  }
 ],
 "metadata": {
  "kernelspec": {
   "display_name": "Python 3 (ipykernel)",
   "language": "python",
   "name": "python3"
  },
  "language_info": {
   "codemirror_mode": {
    "name": "ipython",
    "version": 3
   },
   "file_extension": ".py",
   "mimetype": "text/x-python",
   "name": "python",
   "nbconvert_exporter": "python",
   "pygments_lexer": "ipython3",
   "version": "3.10.5"
  }
 },
 "nbformat": 4,
 "nbformat_minor": 5
}
