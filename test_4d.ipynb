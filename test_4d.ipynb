{
 "cells": [
  {
   "cell_type": "code",
   "execution_count": 11,
   "id": "d6046c99-bc52-46f9-b9c3-e3ec0b623990",
   "metadata": {},
   "outputs": [],
   "source": [
    "import datetime\n",
    "import ifcopenshell\n",
    "import ifcopenshell.api"
   ]
  },
  {
   "cell_type": "code",
   "execution_count": 12,
   "id": "1fc131f0-683d-497c-803b-fd6f3a7185fd",
   "metadata": {},
   "outputs": [],
   "source": [
    "def add_task(model, name, predecessor, work_schedule):\n",
    "    task = ifcopenshell.api.run(\"sequence.add_task\", model, work_schedule=work_schedule)\n",
    "    task.Name = name\n",
    "    task.PredefinedType = \"CONSTRUCTION\"\n",
    "    task_time = ifcopenshell.api.run(\"sequence.add_task_time\", model, task=task)\n",
    "    ifcopenshell.api.run(    \n",
    "        \"sequence.edit_task_time\", model, task_time=task_time,\n",
    "        attributes={\"ScheduleStart\": datetime.date(2022, 10, 1), \"ScheduleDuration\": \"P1W\"}\n",
    "    )\n",
    "    if predecessor:\n",
    "        ifcopenshell.api.run(\"sequence.assign_sequence\", model, relating_process=predecessor, related_process=task) # defaults to an FS relationship\n",
    "    return task"
   ]
  },
  {
   "cell_type": "code",
   "execution_count": 13,
   "id": "2fa0cdee-7349-46a1-aeea-5d5878bd3c76",
   "metadata": {},
   "outputs": [],
   "source": [
    "model = ifcopenshell.open('ifc4_wall_cube.ifc')"
   ]
  },
  {
   "cell_type": "code",
   "execution_count": 14,
   "id": "ee1cf9ef-be37-4481-9dfd-bd804221578a",
   "metadata": {},
   "outputs": [],
   "source": [
    "workplan = ifcopenshell.api.run(\"sequence.add_work_plan\", model, name=\"Construction Plan\")"
   ]
  },
  {
   "cell_type": "code",
   "execution_count": 15,
   "id": "fe2c0830-8482-47c5-a3dd-355763950c13",
   "metadata": {},
   "outputs": [],
   "source": [
    "schedule = ifcopenshell.api.run(\"sequence.add_work_schedule\", model, name=\"Construction\", work_plan=workplan)"
   ]
  },
  {
   "cell_type": "code",
   "execution_count": 16,
   "id": "7607fdc5-3648-416a-86cf-31c49d6925de",
   "metadata": {},
   "outputs": [],
   "source": [
    "task = add_task(model, \"Site est.\", None, schedule)\n",
    "start_task = task # Life is simpler if you know your start task"
   ]
  },
  {
   "cell_type": "code",
   "execution_count": 17,
   "id": "49618eb6-9d0f-40a3-ba7d-9ca81770922d",
   "metadata": {},
   "outputs": [],
   "source": [
    "# Example of building a building wall by wall\n",
    "for wall in model.by_type(\"IfcWall\"):\n",
    "    name = f\"Construct {wall.Name}\"\n",
    "    task = add_task(model, name, task, schedule)\n",
    "    ifcopenshell.api.run(\"sequence.assign_product\", model, relating_product=wall, related_object=task)"
   ]
  },
  {
   "cell_type": "code",
   "execution_count": 18,
   "id": "1abceb67-3190-41f7-98ad-cc7b97e89927",
   "metadata": {},
   "outputs": [],
   "source": [
    "ifcopenshell.api.run(\"sequence.cascade_schedule\", model, task=start_task) # Notice we didn't care much about explicit dates / etc, you can if you want to, but this'll also autocalculate it all for you.\n",
    "ifcopenshell.api.run(\"sequence.recalculate_schedule\", model, work_schedule=schedule) # Critical path, float, etc"
   ]
  },
  {
   "cell_type": "code",
   "execution_count": 19,
   "id": "cea4bd24-ff5e-4b05-b144-313ef3862364",
   "metadata": {},
   "outputs": [],
   "source": [
    "model.write(\"ifc4_wall_cube_4d.ifc\")"
   ]
  },
  {
   "cell_type": "code",
   "execution_count": null,
   "id": "1b863491-1cee-4475-8588-57525df61a13",
   "metadata": {},
   "outputs": [],
   "source": []
  }
 ],
 "metadata": {
  "kernelspec": {
   "display_name": "Python 3 (ipykernel)",
   "language": "python",
   "name": "python3"
  },
  "language_info": {
   "codemirror_mode": {
    "name": "ipython",
    "version": 3
   },
   "file_extension": ".py",
   "mimetype": "text/x-python",
   "name": "python",
   "nbconvert_exporter": "python",
   "pygments_lexer": "ipython3",
   "version": "3.10.5"
  }
 },
 "nbformat": 4,
 "nbformat_minor": 5
}
