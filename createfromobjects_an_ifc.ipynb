{
 "cells": [
  {
   "cell_type": "code",
   "execution_count": 2,
   "id": "ca4b5d03-8759-4c76-974f-0561c84a720d",
   "metadata": {},
   "outputs": [],
   "source": [
    "from pathlib import Path\n",
    "import re\n",
    "import numpy as np"
   ]
  },
  {
   "cell_type": "markdown",
   "id": "95c100c9-9bfb-41bf-9d47-d683e3affcbe",
   "metadata": {},
   "source": [
    "From dir test_obj_cubus take all obj file"
   ]
  },
  {
   "cell_type": "code",
   "execution_count": 3,
   "id": "682169d4-963d-440a-b112-86d5b5e1f617",
   "metadata": {},
   "outputs": [],
   "source": [
    "p = Path(\"test_obj_cubus/\")"
   ]
  },
  {
   "cell_type": "code",
   "execution_count": 4,
   "id": "2e753dd9-fe38-4e65-bf3b-2c3434d8211e",
   "metadata": {},
   "outputs": [],
   "source": [
    "p_path_obj=list(p.glob(\"*.obj\"))"
   ]
  },
  {
   "cell_type": "markdown",
   "id": "c88f03e8-39f3-4987-84d0-860f1a948404",
   "metadata": {},
   "source": [
    "from one obj file, prase it and return list object with faces and vertives"
   ]
  },
  {
   "cell_type": "code",
   "execution_count": 5,
   "id": "9a30d1cd-d573-4e9e-a738-9a23a7ccf93f",
   "metadata": {},
   "outputs": [],
   "source": [
    "def create(p_path):\n",
    "    file_path = open(p_path)\n",
    "    string_from_txt = file_path.read()\n",
    "    file_path.close()\n",
    "    such_v = re.compile(r\"v (\\S*) (\\S*) (\\S*)\")\n",
    "    mo = such_v.findall(string_from_txt)\n",
    "    np_m = np.array(mo, dtype = 'float32' )\n",
    "    vertices = np_m.tolist()\n",
    "    such_f = re.compile(r\"f (\\d) (\\d) (\\d) (\\d)\")\n",
    "    mo_f = such_f.findall(string_from_txt)\n",
    "    np_mp_f = np.array(mo_f, dtype = 'int32' )\n",
    "    neu = np_mp_f -1\n",
    "    faces = neu.tolist()\n",
    "    return faces, vertices"
   ]
  },
  {
   "cell_type": "code",
   "execution_count": 6,
   "id": "237fc80f-90dd-45bc-8eba-93ea4ab5c2f2",
   "metadata": {},
   "outputs": [],
   "source": [
    "from py_ifc_test import Obj2Ifc"
   ]
  },
  {
   "cell_type": "code",
   "execution_count": 7,
   "id": "2654a431-7885-4bac-96dd-0ad063182dac",
   "metadata": {},
   "outputs": [],
   "source": [
    "tst = Obj2Ifc()"
   ]
  },
  {
   "cell_type": "code",
   "execution_count": 8,
   "id": "b1d0ac26-55b1-4b04-8931-db6096b3ccd6",
   "metadata": {},
   "outputs": [],
   "source": [
    "tst.create_ifc_file()"
   ]
  },
  {
   "cell_type": "markdown",
   "id": "21edf5ba-6e63-4c14-9af2-8513fc943566",
   "metadata": {},
   "source": [
    "does not function"
   ]
  },
  {
   "cell_type": "code",
   "execution_count": null,
   "id": "84a190d8-97be-479e-b644-182017a83b06",
   "metadata": {},
   "outputs": [],
   "source": [
    "for path_to_one_obj_file in p_path_obj:\n",
    "    faces , vertives = create(path_to_one_obj_file)\n",
    "    tst.execute(str(path_to_one_obj_file) , faces , vertives)\n",
    "    "
   ]
  },
  {
   "cell_type": "markdown",
   "id": "a3f29aae-0ace-4e77-b6bb-6479cbf5260a",
   "metadata": {},
   "source": [
    "however one does funtion"
   ]
  },
  {
   "cell_type": "code",
   "execution_count": null,
   "id": "7e91f023-22b5-40e3-8c61-3b9208fe30ea",
   "metadata": {},
   "outputs": [],
   "source": [
    "kk , jj = create( p_path_obj[0])\n",
    "tst.execute(str( p_path_obj[0]) , kk , jj)"
   ]
  },
  {
   "cell_type": "code",
   "execution_count": null,
   "id": "a283f171-c78b-4692-8e61-48fa60c358f2",
   "metadata": {},
   "outputs": [],
   "source": [
    "tst.file.write(\"hallo2.ifc\")"
   ]
  },
  {
   "cell_type": "code",
   "execution_count": 9,
   "id": "1b5b0c95-15b1-4cbd-9850-e3a49e12db60",
   "metadata": {},
   "outputs": [
    {
     "data": {
      "text/plain": [
       "#17=IfcGeometricRepresentationSubContext('Body','Model',*,*,*,*,#16,$,.MODEL_VIEW.,$)"
      ]
     },
     "execution_count": 9,
     "metadata": {},
     "output_type": "execute_result"
    }
   ],
   "source": [
    "tst.context"
   ]
  },
  {
   "cell_type": "code",
   "execution_count": null,
   "id": "8a80e590-cbf3-4341-b7bc-8f78705db27c",
   "metadata": {},
   "outputs": [],
   "source": []
  }
 ],
 "metadata": {
  "kernelspec": {
   "display_name": "Python 3 (ipykernel)",
   "language": "python",
   "name": "python3"
  },
  "language_info": {
   "codemirror_mode": {
    "name": "ipython",
    "version": 3
   },
   "file_extension": ".py",
   "mimetype": "text/x-python",
   "name": "python",
   "nbconvert_exporter": "python",
   "pygments_lexer": "ipython3",
   "version": "3.10.5"
  }
 },
 "nbformat": 4,
 "nbformat_minor": 5
}
