{
 "cells": [
  {
   "cell_type": "code",
   "execution_count": 7,
   "id": "e801787f-fb34-4d11-afd3-15e6a44fbe5a",
   "metadata": {},
   "outputs": [],
   "source": [
    "import pywavefront\n",
    "import pymeshlab"
   ]
  },
  {
   "cell_type": "code",
   "execution_count": 2,
   "id": "e2a32911-0d5b-45b6-843c-608e73fcf2f6",
   "metadata": {},
   "outputs": [],
   "source": [
    "path = \"test_obj_cubus/cubus_a.obj\""
   ]
  },
  {
   "cell_type": "code",
   "execution_count": 4,
   "id": "d4dda396-75d0-4b39-b774-23f97b82847c",
   "metadata": {},
   "outputs": [],
   "source": [
    "obj_pywavefront = pywavefront.Wavefront(path, create_materials=True, collect_faces=True)"
   ]
  },
  {
   "cell_type": "code",
   "execution_count": 6,
   "id": "97df6ce9-0054-45ce-bbd8-bbbac3974b41",
   "metadata": {
    "tags": []
   },
   "outputs": [
    {
     "name": "stdout",
     "output_type": "stream",
     "text": [
      "face\n",
      "[0, 4, 6]\n",
      "vertics\n",
      "(1.0, 1.0, -3.610317)\n",
      "(-1.0, 1.0, -3.610317)\n",
      "(-1.0, 1.0, -1.610317)\n",
      "face\n",
      "[2, 0, 6]\n",
      "vertics\n",
      "(1.0, 1.0, -1.610317)\n",
      "(1.0, 1.0, -3.610317)\n",
      "(-1.0, 1.0, -1.610317)\n",
      "face\n",
      "[3, 2, 6]\n",
      "vertics\n",
      "(1.0, -1.0, -1.610317)\n",
      "(1.0, 1.0, -1.610317)\n",
      "(-1.0, 1.0, -1.610317)\n",
      "face\n",
      "[7, 3, 6]\n",
      "vertics\n",
      "(-1.0, -1.0, -1.610317)\n",
      "(1.0, -1.0, -1.610317)\n",
      "(-1.0, 1.0, -1.610317)\n",
      "face\n",
      "[7, 6, 4]\n",
      "vertics\n",
      "(-1.0, -1.0, -1.610317)\n",
      "(-1.0, 1.0, -1.610317)\n",
      "(-1.0, 1.0, -3.610317)\n",
      "face\n",
      "[5, 7, 4]\n",
      "vertics\n",
      "(-1.0, -1.0, -3.610317)\n",
      "(-1.0, -1.0, -1.610317)\n",
      "(-1.0, 1.0, -3.610317)\n",
      "face\n",
      "[5, 1, 3]\n",
      "vertics\n",
      "(-1.0, -1.0, -3.610317)\n",
      "(1.0, -1.0, -3.610317)\n",
      "(1.0, -1.0, -1.610317)\n",
      "face\n",
      "[7, 5, 3]\n",
      "vertics\n",
      "(-1.0, -1.0, -1.610317)\n",
      "(-1.0, -1.0, -3.610317)\n",
      "(1.0, -1.0, -1.610317)\n",
      "face\n",
      "[1, 0, 2]\n",
      "vertics\n",
      "(1.0, -1.0, -3.610317)\n",
      "(1.0, 1.0, -3.610317)\n",
      "(1.0, 1.0, -1.610317)\n",
      "face\n",
      "[3, 1, 2]\n",
      "vertics\n",
      "(1.0, -1.0, -1.610317)\n",
      "(1.0, -1.0, -3.610317)\n",
      "(1.0, 1.0, -1.610317)\n",
      "face\n",
      "[5, 4, 0]\n",
      "vertics\n",
      "(-1.0, -1.0, -3.610317)\n",
      "(-1.0, 1.0, -3.610317)\n",
      "(1.0, 1.0, -3.610317)\n",
      "face\n",
      "[1, 5, 0]\n",
      "vertics\n",
      "(1.0, -1.0, -3.610317)\n",
      "(-1.0, -1.0, -3.610317)\n",
      "(1.0, 1.0, -3.610317)\n"
     ]
    }
   ],
   "source": [
    "for mesh in obj_pywavefront.mesh_list:\n",
    "    for face in mesh.faces:\n",
    "        print(\"face\")\n",
    "        print(face)\n",
    "        print(\"vertics\")\n",
    "        for index in face:\n",
    "            print(obj_pywavefront.vertices[index])"
   ]
  },
  {
   "cell_type": "code",
   "execution_count": 8,
   "id": "4f6c59fd-231a-48c0-80cf-b0b5c261bf3a",
   "metadata": {},
   "outputs": [],
   "source": [
    "ms = pymeshlab.MeshSet()\n",
    "ms.load_new_mesh(path)"
   ]
  },
  {
   "cell_type": "code",
   "execution_count": 9,
   "id": "e5d61bb1-d8a1-427b-a5e8-819e0d134ccf",
   "metadata": {},
   "outputs": [],
   "source": [
    "m = ms.current_mesh()"
   ]
  },
  {
   "cell_type": "code",
   "execution_count": 10,
   "id": "ef642a32-58b8-43da-a07b-13b8ff4aa221",
   "metadata": {},
   "outputs": [],
   "source": [
    "faces = m.face_matrix()\n",
    "vertices = m.vertex_matrix()"
   ]
  },
  {
   "cell_type": "code",
   "execution_count": 11,
   "id": "dfd1a06f-462b-4f9b-b9f9-8fdfd9ac63d5",
   "metadata": {},
   "outputs": [
    {
     "name": "stdout",
     "output_type": "stream",
     "text": [
      "face\n",
      "[0 4 6]\n",
      "vertics\n",
      "[ 1.        1.       -3.610317]\n",
      "[-1.        1.       -3.610317]\n",
      "[-1.        1.       -1.610317]\n",
      "face\n",
      "[0 6 2]\n",
      "vertics\n",
      "[ 1.        1.       -3.610317]\n",
      "[-1.        1.       -1.610317]\n",
      "[ 1.        1.       -1.610317]\n",
      "face\n",
      "[3 2 6]\n",
      "vertics\n",
      "[ 1.       -1.       -1.610317]\n",
      "[ 1.        1.       -1.610317]\n",
      "[-1.        1.       -1.610317]\n",
      "face\n",
      "[3 6 7]\n",
      "vertics\n",
      "[ 1.       -1.       -1.610317]\n",
      "[-1.        1.       -1.610317]\n",
      "[-1.       -1.       -1.610317]\n",
      "face\n",
      "[7 6 4]\n",
      "vertics\n",
      "[-1.       -1.       -1.610317]\n",
      "[-1.        1.       -1.610317]\n",
      "[-1.        1.       -3.610317]\n",
      "face\n",
      "[7 4 5]\n",
      "vertics\n",
      "[-1.       -1.       -1.610317]\n",
      "[-1.        1.       -3.610317]\n",
      "[-1.       -1.       -3.610317]\n",
      "face\n",
      "[5 1 3]\n",
      "vertics\n",
      "[-1.       -1.       -3.610317]\n",
      "[ 1.       -1.       -3.610317]\n",
      "[ 1.       -1.       -1.610317]\n",
      "face\n",
      "[5 3 7]\n",
      "vertics\n",
      "[-1.       -1.       -3.610317]\n",
      "[ 1.       -1.       -1.610317]\n",
      "[-1.       -1.       -1.610317]\n",
      "face\n",
      "[1 0 2]\n",
      "vertics\n",
      "[ 1.       -1.       -3.610317]\n",
      "[ 1.        1.       -3.610317]\n",
      "[ 1.        1.       -1.610317]\n",
      "face\n",
      "[1 2 3]\n",
      "vertics\n",
      "[ 1.       -1.       -3.610317]\n",
      "[ 1.        1.       -1.610317]\n",
      "[ 1.       -1.       -1.610317]\n",
      "face\n",
      "[5 4 0]\n",
      "vertics\n",
      "[-1.       -1.       -3.610317]\n",
      "[-1.        1.       -3.610317]\n",
      "[ 1.        1.       -3.610317]\n",
      "face\n",
      "[5 0 1]\n",
      "vertics\n",
      "[-1.       -1.       -3.610317]\n",
      "[ 1.        1.       -3.610317]\n",
      "[ 1.       -1.       -3.610317]\n"
     ]
    }
   ],
   "source": [
    "for face in faces:\n",
    "    print(\"face\")\n",
    "    print(face)\n",
    "    print(\"vertics\")\n",
    "    for index in face:\n",
    "        print(vertices[index])"
   ]
  },
  {
   "cell_type": "code",
   "execution_count": null,
   "id": "ed19e739-9836-4bdf-83b1-715e507f2675",
   "metadata": {},
   "outputs": [],
   "source": []
  }
 ],
 "metadata": {
  "kernelspec": {
   "display_name": "Python 3 (ipykernel)",
   "language": "python",
   "name": "python3"
  },
  "language_info": {
   "codemirror_mode": {
    "name": "ipython",
    "version": 3
   },
   "file_extension": ".py",
   "mimetype": "text/x-python",
   "name": "python",
   "nbconvert_exporter": "python",
   "pygments_lexer": "ipython3",
   "version": "3.10.5"
  }
 },
 "nbformat": 4,
 "nbformat_minor": 5
}
