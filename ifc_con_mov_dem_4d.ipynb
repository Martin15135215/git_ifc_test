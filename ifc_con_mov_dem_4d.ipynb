{
 "cells": [
  {
   "cell_type": "code",
   "execution_count": 1,
   "id": "b815e830-3085-469d-8121-9cc39cd60f0e",
   "metadata": {},
   "outputs": [],
   "source": [
    "import datetime\n",
    "import ifcopenshell\n",
    "import ifcopenshell.api"
   ]
  },
  {
   "cell_type": "code",
   "execution_count": 2,
   "id": "8ded28ad-f745-4b1c-8e77-d45bd5a8ab81",
   "metadata": {},
   "outputs": [],
   "source": [
    "model = ifcopenshell.open('test_two_cube_wall.ifc')"
   ]
  },
  {
   "cell_type": "code",
   "execution_count": 3,
   "id": "aade1d06-754c-43e4-ae64-10352526d367",
   "metadata": {},
   "outputs": [],
   "source": [
    "walls = model.by_type(\"IfcWall\")"
   ]
  },
  {
   "cell_type": "code",
   "execution_count": 4,
   "id": "a6a3a54b-2323-410f-925f-6532d80351cc",
   "metadata": {},
   "outputs": [],
   "source": [
    "wall1 = walls[0]"
   ]
  },
  {
   "cell_type": "code",
   "execution_count": 5,
   "id": "62e9775c-337c-4cf5-b4be-6e8cabfd9792",
   "metadata": {},
   "outputs": [],
   "source": [
    "wall2 = walls[1]"
   ]
  },
  {
   "cell_type": "code",
   "execution_count": 6,
   "id": "51bc0073-9a5c-4ad6-946b-11705f73142a",
   "metadata": {},
   "outputs": [],
   "source": [
    "workplan = ifcopenshell.api.run(\"sequence.add_work_plan\", model, name=\"Construction Plan\")"
   ]
  },
  {
   "cell_type": "code",
   "execution_count": 7,
   "id": "a5e084ae-9873-47f3-a7e1-ec434df53043",
   "metadata": {},
   "outputs": [],
   "source": [
    "schedule = ifcopenshell.api.run(\"sequence.add_work_schedule\", model, name=\"Construction\", work_plan=workplan)"
   ]
  },
  {
   "cell_type": "code",
   "execution_count": 8,
   "id": "40f90dc3-73b2-49ac-9623-a16eb29e1e3d",
   "metadata": {},
   "outputs": [],
   "source": [
    "def add_task_CONSTRUCTION(model, name, predecessor, work_schedule, object_constructed):\n",
    "    task = ifcopenshell.api.run(\"sequence.add_task\", model, work_schedule=work_schedule)\n",
    "    task.Name = name\n",
    "    task.PredefinedType = \"CONSTRUCTION\"\n",
    "    task_time = ifcopenshell.api.run(\"sequence.add_task_time\", model, task=task)\n",
    "    ifcopenshell.api.run(    \n",
    "        \"sequence.edit_task_time\", model, task_time=task_time,\n",
    "        attributes={\"ScheduleStart\": datetime.date(2022, 10, 1), \"ScheduleDuration\": \"P1W\"}\n",
    "    )\n",
    "    if predecessor:\n",
    "        ifcopenshell.api.run(\"sequence.assign_sequence\", model, relating_process=predecessor, related_process=task) # defaults to an FS relationship\n",
    "        \n",
    "    ifcopenshell.api.run(\"sequence.assign_product\", model, relating_product=object_constructed, related_object=task) #output\n",
    "    return task"
   ]
  },
  {
   "cell_type": "code",
   "execution_count": 9,
   "id": "4057f9c3-b649-4da7-ba23-580bb556a562",
   "metadata": {},
   "outputs": [],
   "source": [
    "def add_task_DEMOLITION(model, name, predecessor, work_schedule, object_demolated):\n",
    "    task = ifcopenshell.api.run(\"sequence.add_task\", model, work_schedule=work_schedule)\n",
    "    task.Name = name\n",
    "    task.PredefinedType = \"DEMOLITION\"\n",
    "    task_time = ifcopenshell.api.run(\"sequence.add_task_time\", model, task=task)\n",
    "    ifcopenshell.api.run(    \n",
    "        \"sequence.edit_task_time\", model, task_time=task_time,\n",
    "        attributes={\"ScheduleStart\": datetime.date(2022, 10, 1), \"ScheduleDuration\": \"P1W\"}\n",
    "    )\n",
    "    if predecessor:\n",
    "        ifcopenshell.api.run(\"sequence.assign_sequence\", model, relating_process=predecessor, related_process=task) # defaults to an FS relationship\n",
    "    \n",
    "    ifcopenshell.api.run(\"sequence.assign_process\", model, relating_process=task, related_object=object_demolated) #input\n",
    "    return task"
   ]
  },
  {
   "cell_type": "code",
   "execution_count": 10,
   "id": "47625fa0-9880-47b1-a4a1-3e2fbed8321e",
   "metadata": {},
   "outputs": [],
   "source": [
    "def add_task_MOVE(model, name, predecessor, work_schedule, object_old, object_new):\n",
    "    task = ifcopenshell.api.run(\"sequence.add_task\", model, work_schedule=work_schedule)\n",
    "    task.Name = name\n",
    "    task.PredefinedType = \"MOVE\"\n",
    "    task_time = ifcopenshell.api.run(\"sequence.add_task_time\", model, task=task)\n",
    "    ifcopenshell.api.run(    \n",
    "        \"sequence.edit_task_time\", model, task_time=task_time,\n",
    "        attributes={\"ScheduleStart\": datetime.date(2022, 10, 1), \"ScheduleDuration\": \"P1W\"}\n",
    "    )\n",
    "    if predecessor:\n",
    "        ifcopenshell.api.run(\"sequence.assign_sequence\", model, relating_process=predecessor, related_process=task) # defaults to an FS relationship\n",
    "    \n",
    "    ifcopenshell.api.run(\"sequence.assign_process\", model, relating_process=task, related_object=object_old) #input\n",
    "    ifcopenshell.api.run(\"sequence.assign_product\", model, relating_product=object_new, related_object=task) #output\n",
    "    return task"
   ]
  },
  {
   "cell_type": "code",
   "execution_count": 11,
   "id": "e55198b1-8dc9-497a-89d4-c585a43a2e69",
   "metadata": {},
   "outputs": [],
   "source": [
    "task_con = add_task_CONSTRUCTION(model, \"constrution wall\", None , schedule, wall1)"
   ]
  },
  {
   "cell_type": "code",
   "execution_count": 12,
   "id": "9adce629-2330-4c9e-a78b-023fd2230b5d",
   "metadata": {},
   "outputs": [],
   "source": [
    "task_move = add_task_MOVE(model, \"move wall\", task_con, schedule, wall1, wall2)"
   ]
  },
  {
   "cell_type": "code",
   "execution_count": 13,
   "id": "075df658-6c8a-4e19-ae71-215fb49345dd",
   "metadata": {},
   "outputs": [],
   "source": [
    "task_demol = add_task_DEMOLITION(model, \"demolate wall\", task_move, schedule, wall2)"
   ]
  },
  {
   "cell_type": "code",
   "execution_count": 14,
   "id": "726b7145-7bf8-47ad-a7f8-c0bdb8817634",
   "metadata": {},
   "outputs": [],
   "source": [
    "ifcopenshell.api.run(\"sequence.cascade_schedule\", model, task=task_con) # Notice we didn't care much about explicit dates / etc, you can if you want to, but this'll also autocalculate it all for you.\n",
    "ifcopenshell.api.run(\"sequence.recalculate_schedule\", model, work_schedule=schedule) # Critical path, float, etc"
   ]
  },
  {
   "cell_type": "code",
   "execution_count": 15,
   "id": "89331b80-3c4a-4c8c-a5d6-7ac579be8f30",
   "metadata": {},
   "outputs": [],
   "source": [
    "model.write(\"test_two_cube_wall_4d.ifc\")"
   ]
  },
  {
   "cell_type": "code",
   "execution_count": null,
   "id": "6528c3b8-71d2-4e66-bd42-be7c6aa3c4cc",
   "metadata": {},
   "outputs": [],
   "source": []
  }
 ],
 "metadata": {
  "kernelspec": {
   "display_name": "Python 3 (ipykernel)",
   "language": "python",
   "name": "python3"
  },
  "language_info": {
   "codemirror_mode": {
    "name": "ipython",
    "version": 3
   },
   "file_extension": ".py",
   "mimetype": "text/x-python",
   "name": "python",
   "nbconvert_exporter": "python",
   "pygments_lexer": "ipython3",
   "version": "3.10.6"
  }
 },
 "nbformat": 4,
 "nbformat_minor": 5
}
